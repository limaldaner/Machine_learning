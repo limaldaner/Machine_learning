{
 "cells": [
  {
   "cell_type": "code",
   "execution_count": 1,
   "metadata": {},
   "outputs": [],
   "source": [
    "###########################################################################\n",
    "#                        Train and Test SVM Code \n",
    "# SVM linear kernel\n",
    "#\n",
    "# Canada\n",
    "# August 2019\n",
    "#\n",
    "# Oriented by: Dr. M. Shahbazi\n",
    "# Author: Liége Maldaner\n",
    "# E-mail: liege.malda@gmail.com\n",
    "#\n",
    "# Results:\n",
    "###########################################################################\n",
    "\n",
    "# Importing modules\n",
    "import pandas as pd\n",
    "import os"
   ]
  },
  {
   "cell_type": "code",
   "execution_count": 2,
   "metadata": {},
   "outputs": [],
   "source": [
    "#READING DATA\n",
    "X = pd.read_csv('/home/liege/PycharmProjects/SVM/X_HOG.csv')\n",
    "y = pd.read_csv('/home/liege/PycharmProjects/SVM/y_HOG.csv')"
   ]
  },
  {
   "cell_type": "code",
   "execution_count": 3,
   "metadata": {},
   "outputs": [
    {
     "name": "stdout",
     "output_type": "stream",
     "text": [
      "             0          1          2          3\n",
      "0    -7.464824  -5.339113   2.490964   4.144862\n",
      "1    -6.509299  -5.625090   2.081747   5.472362\n",
      "2     5.288947  -5.273809  -5.012454   1.092902\n",
      "3     4.519794  -8.743109  -4.173478   1.425919\n",
      "4    -2.270510  -2.001406  -2.703757   1.848446\n",
      "5    -4.700944   5.250880  -3.703180   0.361415\n",
      "6    -5.397324   1.050188  -1.445780   2.523423\n",
      "7    -1.573445   3.793536  -4.246404   1.219175\n",
      "8     7.314523 -10.367941  -4.983541   1.104476\n",
      "9     3.889653 -18.577382  -2.956566  -0.916688\n",
      "10   -8.995613  18.192522  -1.761515  -1.230015\n",
      "11   -5.380105  17.234707  -3.679850  -1.241602\n",
      "12   -4.363587  10.598314  -3.698929  -1.132586\n",
      "13   -2.041636  11.598147  -4.104822   0.837209\n",
      "14   -3.613587   4.072571  -3.326299   0.165665\n",
      "15   -0.132871  -2.995047  -4.299851   0.201841\n",
      "16   -2.180920   1.541243  -4.390244  -0.023221\n",
      "17   -0.531063   4.317574  -4.614712  -0.312312\n",
      "18    4.645784  -0.625583  -5.548716   0.230419\n",
      "19    2.876736   2.041610  -5.723139   0.360422\n",
      "20    0.834026   5.155396  -4.933381   0.790772\n",
      "21   -0.328295  -1.592379  -3.956374   1.147705\n",
      "22    2.474436  -6.344615  -3.047520   1.726301\n",
      "23   -2.843811  -8.484854  -1.184871   1.566566\n",
      "24   -5.525924  -7.501278  -0.912084   1.553620\n",
      "25   -1.855044  -9.805315  -2.646877   1.126577\n",
      "26   -3.025726  -6.045456  -2.153843   1.816900\n",
      "27   -4.151555  -4.573168  -2.117889   0.344293\n",
      "28   -8.254221  -3.433965   0.664611   0.304645\n",
      "29    2.114779 -18.532504  -2.403994  -0.443419\n",
      "..         ...        ...        ...        ...\n",
      "434  13.741605   2.539611  -1.843338   4.185828\n",
      "435   7.784220  -0.303070   4.031789  -3.432152\n",
      "436  -0.740761  -4.460255  -3.886484  -1.470667\n",
      "437 -12.668572  -8.833777  12.046159  -1.086626\n",
      "438   9.178066 -15.044175   3.473047  -4.737603\n",
      "439   0.313359   4.962391  11.719897  -3.447332\n",
      "440   2.045733   3.351232  12.085575  -0.805913\n",
      "441   2.347187   2.630719   7.057935   1.147321\n",
      "442  -1.152673  -0.815265   0.167089   0.858998\n",
      "443  16.824192   2.606944   3.057699   4.368405\n",
      "444  -5.138531   0.895566   4.763626  -2.330934\n",
      "445  10.511047   2.046377  -0.452189   0.025843\n",
      "446   8.358044   4.584073   5.905358  -2.585095\n",
      "447   3.006848  10.356201   1.925554  -0.790128\n",
      "448  -1.296475   0.242210   4.894101  -2.099400\n",
      "449   4.347685 -15.838717   2.523576  -2.143822\n",
      "450   4.467305  19.608809   6.315486   4.364721\n",
      "451   5.635878   8.276772   7.046135   8.857833\n",
      "452   6.062741   0.206775  -0.223226   1.516514\n",
      "453  10.550104  -2.165454  18.146415   5.926583\n",
      "454  -7.507432  -0.373908  17.049040  -2.651510\n",
      "455  12.006977   8.716465  32.449804  25.253631\n",
      "456  -4.840206   4.786329  -1.052552  -0.803353\n",
      "457   3.218462  -4.393505   3.739472  -0.924265\n",
      "458  -4.315372 -10.510593   2.733869   0.272001\n",
      "459  15.154422  17.225559   0.779948   4.968027\n",
      "460  19.095203  -4.337095  14.140842  -0.392062\n",
      "461   1.711482 -16.992519   5.433711  -2.596325\n",
      "462  -0.583228  22.931895   1.505939  -1.214616\n",
      "463 -14.495445   6.830527   5.834795   0.026034\n",
      "\n",
      "[464 rows x 4 columns]\n"
     ]
    }
   ],
   "source": [
    "print(X)"
   ]
  },
  {
   "cell_type": "code",
   "execution_count": 4,
   "metadata": {},
   "outputs": [
    {
     "name": "stdout",
     "output_type": "stream",
     "text": [
      "       0\n",
      "0    0.0\n",
      "1    0.0\n",
      "2    0.0\n",
      "3    0.0\n",
      "4    0.0\n",
      "5    0.0\n",
      "6    0.0\n",
      "7    0.0\n",
      "8    0.0\n",
      "9    0.0\n",
      "10   0.0\n",
      "11   0.0\n",
      "12   0.0\n",
      "13   0.0\n",
      "14   0.0\n",
      "15   0.0\n",
      "16   0.0\n",
      "17   0.0\n",
      "18   0.0\n",
      "19   0.0\n",
      "20   0.0\n",
      "21   0.0\n",
      "22   0.0\n",
      "23   0.0\n",
      "24   0.0\n",
      "25   0.0\n",
      "26   0.0\n",
      "27   0.0\n",
      "28   0.0\n",
      "29   0.0\n",
      "..   ...\n",
      "434  1.0\n",
      "435  1.0\n",
      "436  1.0\n",
      "437  1.0\n",
      "438  1.0\n",
      "439  1.0\n",
      "440  1.0\n",
      "441  1.0\n",
      "442  1.0\n",
      "443  1.0\n",
      "444  1.0\n",
      "445  1.0\n",
      "446  1.0\n",
      "447  1.0\n",
      "448  1.0\n",
      "449  1.0\n",
      "450  1.0\n",
      "451  1.0\n",
      "452  1.0\n",
      "453  1.0\n",
      "454  1.0\n",
      "455  1.0\n",
      "456  1.0\n",
      "457  1.0\n",
      "458  1.0\n",
      "459  1.0\n",
      "460  1.0\n",
      "461  1.0\n",
      "462  1.0\n",
      "463  1.0\n",
      "\n",
      "[464 rows x 1 columns]\n"
     ]
    }
   ],
   "source": [
    "print(y)"
   ]
  },
  {
   "cell_type": "code",
   "execution_count": null,
   "metadata": {},
   "outputs": [],
   "source": [
    "#REDUCE DATA\n",
    "# Create an LDA that will reduce the data down to 4 feature\n",
    "lda = LinearDiscriminantAnalysis(n_components=4)\n",
    "\n",
    "# run an LDA and use it to transform the features\n",
    "X_lda = lda.fit(X, y).transform(X)"
   ]
  },
  {
   "cell_type": "code",
   "execution_count": null,
   "metadata": {},
   "outputs": [],
   "source": [
    "# Print the number of features\n",
    "print('Original number of features:', X.shape[1])\n",
    "print('Reduced number of features:', X_lda.shape[1])"
   ]
  },
  {
   "cell_type": "code",
   "execution_count": 47,
   "metadata": {},
   "outputs": [
    {
     "name": "stderr",
     "output_type": "stream",
     "text": [
      "/home/liege/anaconda3/lib/python3.7/site-packages/sklearn/utils/validation.py:724: DataConversionWarning: A column-vector y was passed when a 1d array was expected. Please change the shape of y to (n_samples, ), for example using ravel().\n",
      "  y = column_or_1d(y, warn=True)\n"
     ]
    },
    {
     "data": {
      "text/plain": [
       "SVC(C=1.3, cache_size=200, class_weight=None, coef0=0.0,\n",
       "    decision_function_shape='ovr', degree=3, gamma=1.3, kernel='rbf',\n",
       "    max_iter=-1, probability=False, random_state=0, shrinking=True, tol=0.001,\n",
       "    verbose=False)"
      ]
     },
     "execution_count": 47,
     "metadata": {},
     "output_type": "execute_result"
    }
   ],
   "source": [
    "# TRAINING DATA\n",
    "from sklearn.model_selection import train_test_split\n",
    "X_train, X_test, y_train, y_test = train_test_split(X, y, test_size = 0.10)\n",
    "\n",
    "from sklearn.svm import SVC\n",
    "c = 1.3 #2.05\n",
    "G = 1.3 #2.05\n",
    "svclassifier = SVC(kernel='rbf', random_state=0, gamma=G, C=c)\n",
    "svclassifier.fit(X_train, y_train)"
   ]
  },
  {
   "cell_type": "code",
   "execution_count": 48,
   "metadata": {},
   "outputs": [],
   "source": [
    "# making predictions\n",
    "y_pred = svclassifier.predict(X_test)\n",
    "#print(y_pred)"
   ]
  },
  {
   "cell_type": "code",
   "execution_count": null,
   "metadata": {},
   "outputs": [],
   "source": []
  },
  {
   "cell_type": "code",
   "execution_count": 49,
   "metadata": {},
   "outputs": [
    {
     "name": "stdout",
     "output_type": "stream",
     "text": [
      "penalty constant:  1.3\n",
      "Gamma:  1.3\n",
      "X_pca\n",
      "rbf\n",
      "[[26  1]\n",
      " [20  0]]\n",
      "              precision    recall  f1-score   support\n",
      "\n",
      "         0.0       0.57      0.96      0.71        27\n",
      "         1.0       0.00      0.00      0.00        20\n",
      "\n",
      "    accuracy                           0.55        47\n",
      "   macro avg       0.28      0.48      0.36        47\n",
      "weighted avg       0.32      0.55      0.41        47\n",
      "\n"
     ]
    }
   ],
   "source": [
    "from sklearn.metrics import classification_report, confusion_matrix\n",
    "print('penalty constant: ',c)\n",
    "print('Gamma: ',G)\n",
    "print('X_pca')\n",
    "print('rbf')\n",
    "print(confusion_matrix(y_test,y_pred))\n",
    "print(classification_report(y_test,y_pred))"
   ]
  },
  {
   "cell_type": "code",
   "execution_count": 31,
   "metadata": {},
   "outputs": [
    {
     "name": "stdout",
     "output_type": "stream",
     "text": [
      "penalty constant:  2.05\n",
      "Gamma:  2.05\n",
      "X_pca\n",
      "linear\n",
      "[[27  0]\n",
      " [ 2 18]]\n",
      "              precision    recall  f1-score   support\n",
      "\n",
      "         0.0       0.93      1.00      0.96        27\n",
      "         1.0       1.00      0.90      0.95        20\n",
      "\n",
      "    accuracy                           0.96        47\n",
      "   macro avg       0.97      0.95      0.96        47\n",
      "weighted avg       0.96      0.96      0.96        47\n",
      "\n"
     ]
    }
   ],
   "source": [
    "from sklearn.metrics import classification_report, confusion_matrix\n",
    "print('penalty constant: ',c)\n",
    "print('Gamma: ',G)\n",
    "print('X_pca')\n",
    "print('linear')\n",
    "print(confusion_matrix(y_test,y_pred))\n",
    "print(classification_report(y_test,y_pred))"
   ]
  },
  {
   "cell_type": "code",
   "execution_count": null,
   "metadata": {},
   "outputs": [],
   "source": []
  },
  {
   "cell_type": "code",
   "execution_count": null,
   "metadata": {},
   "outputs": [],
   "source": []
  },
  {
   "cell_type": "code",
   "execution_count": null,
   "metadata": {},
   "outputs": [],
   "source": []
  },
  {
   "cell_type": "code",
   "execution_count": null,
   "metadata": {},
   "outputs": [],
   "source": []
  },
  {
   "cell_type": "code",
   "execution_count": null,
   "metadata": {},
   "outputs": [],
   "source": []
  }
 ],
 "metadata": {
  "kernelspec": {
   "display_name": "Python 3",
   "language": "python",
   "name": "python3"
  },
  "language_info": {
   "codemirror_mode": {
    "name": "ipython",
    "version": 3
   },
   "file_extension": ".py",
   "mimetype": "text/x-python",
   "name": "python",
   "nbconvert_exporter": "python",
   "pygments_lexer": "ipython3",
   "version": "3.7.3"
  }
 },
 "nbformat": 4,
 "nbformat_minor": 2
}
